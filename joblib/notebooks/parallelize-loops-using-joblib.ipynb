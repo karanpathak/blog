{
 "cells": [
  {
   "cell_type": "markdown",
   "execution_count": null,
   "metadata": {},
   "source": [
    "# Parallelize embarrassing  for loops using [Joblib](joblib.readthedocs.io/)"
   ]
  },
  {
   "cell_type": "code",
   "execution_count": 1,
   "metadata": {},
   "outputs": [
    {
     "name": "stdout",
     "output_type": "stream",
     "text": [
      "Requirement already satisfied: joblib in /opt/conda/lib/python3.7/site-packages (0.14.1)\r\n",
      "Requirement already satisfied: Pillow in /opt/conda/lib/python3.7/site-packages (5.4.1)\r\n"
     ]
    }
   ],
   "source": [
    "!pip install joblib\n",
    "!pip install Pillow"
   ]
  },
  {
   "cell_type": "markdown",
   "execution_count": null,
   "metadata": {},
   "source": [
    "### Import the `Parallel` class"
   ]
  },
  {
   "cell_type": "code",
   "execution_count": 2,
   "metadata": {},
   "outputs": [],
   "source": [
    "from joblib import Parallel, delayed"
   ]
  },
  {
   "cell_type": "markdown",
   "execution_count": null,
   "metadata": {},
   "source": [
    "### Import other modules"
   ]
  },
  {
   "cell_type": "code",
   "execution_count": 3,
   "metadata": {},
   "outputs": [],
   "source": [
    "from PIL import ImageDraw, Image\n",
    "import numpy as np\n",
    "from pathlib import Path\n",
    "from time import sleep, time\n",
    "from multiprocessing import cpu_count"
   ]
  },
  {
   "cell_type": "markdown",
   "execution_count": null,
   "metadata": {},
   "source": [
    "## Let's start with a simple example"
   ]
  },
  {
   "cell_type": "code",
   "execution_count": 4,
   "metadata": {},
   "outputs": [],
   "source": [
    "size_w = size_h = 512"
   ]
  },
  {
   "cell_type": "markdown",
   "execution_count": null,
   "metadata": {},
   "source": [
    "### Define a function"
   ]
  },
  {
   "cell_type": "code",
   "execution_count": 5,
   "metadata": {},
   "outputs": [],
   "source": [
    "def draw_rectangles(img_index, save_dir, n, m):\n",
    "    image = Image.new(mode = 'RGB', size = (n, m), color = (255, 255, 255))\n",
    "    draw = ImageDraw.Draw(image)\n",
    "    sleep(3.0)\n",
    "    x1 = np.random.randint(low=0, high=n//2)\n",
    "    x2 = np.random.randint(low=n//2 + 1, high=n)\n",
    "    \n",
    "    y1 = np.random.randint(low=0, high=m//2)\n",
    "    y2 = np.random.randint(low=m//2 + 1, high=m)\n",
    "    \n",
    "    draw.rectangle(xy=[(x1,y1), (x2,y2)], outline=(255, 0, 0))\n",
    "    image_name = img_index + '.png'\n",
    "    image.save(save_dir.joinpath(image_name).as_posix())\n",
    "    return image_name"
   ]
  },
  {
   "cell_type": "markdown",
   "execution_count": null,
   "metadata": {},
   "source": [
    "### Without Parallel processing"
   ]
  },
  {
   "cell_type": "code",
   "execution_count": 6,
   "metadata": {},
   "outputs": [],
   "source": [
    "save_dir_no_parallel_process = Path('./no_parallel_process')\n",
    "save_dir_no_parallel_process.mkdir(parents=True, exist_ok=True)"
   ]
  },
  {
   "cell_type": "code",
   "execution_count": 7,
   "metadata": {},
   "outputs": [
    {
     "name": "stdout",
     "output_type": "stream",
     "text": [
      "Image Name:  1.png\n",
      "Image Name:  2.png\n",
      "Image Name:  3.png\n",
      "Image Name:  4.png\n",
      "Image Name:  5.png\n",
      "Image Name:  6.png\n",
      "Image Name:  7.png\n",
      "Image Name:  8.png\n",
      "Image Name:  9.png\n",
      "Image Name:  10.png\n",
      "Execution Time:  30.20789098739624\n"
     ]
    }
   ],
   "source": [
    "start_time = time()\n",
    "\n",
    "\n",
    "for image_index in range(10):\n",
    "    image_name = draw_rectangles(img_index=str(image_index+1), save_dir=save_dir_no_parallel_process, n=size_w, m=size_h)\n",
    "    print(\"Image Name: \", image_name)\n",
    "\n",
    "\n",
    "sequential_execution_time = time() - start_time\n",
    "\n",
    "\n",
    "print(\"Execution Time: \", sequential_execution_time)"
   ]
  },
  {
   "cell_type": "markdown",
   "execution_count": null,
   "metadata": {},
   "source": [
    "### With Joblib `Parallel`"
   ]
  },
  {
   "cell_type": "code",
   "execution_count": 8,
   "metadata": {},
   "outputs": [],
   "source": [
    "save_dir_parallel_process = Path('./parallel_process')\n",
    "save_dir_parallel_process.mkdir(parents=True, exist_ok=True)"
   ]
  },
  {
   "cell_type": "code",
   "execution_count": 9,
   "metadata": {},
   "outputs": [
    {
     "name": "stdout",
     "output_type": "stream",
     "text": [
      "Number of jobs:  4\n",
      "Execution Time:  9.62631630897522\n"
     ]
    }
   ],
   "source": [
    "start_time = time()\n",
    "\n",
    "\n",
    "print(\"Number of jobs: \",int(cpu_count()))\n",
    "\n",
    "# Use multiple CPUs (Multi Processing)\n",
    "image_filenames = Parallel(n_jobs=int(cpu_count()), prefer='processes')(\n",
    "    delayed(draw_rectangles)(img_index=str(image_index+1), save_dir=save_dir_parallel_process, n=size_w, m=size_h) \n",
    "    for image_index in range(10)\n",
    ")\n",
    "\n",
    "parallel_execution_time = time() - start_time\n",
    "\n",
    "\n",
    "print(\"Execution Time: \", parallel_execution_time)"
   ]
  },
  {
   "cell_type": "markdown",
   "execution_count": null,
   "metadata": {},
   "source": [
    "<span style=\"color:red\">Note the time difference in the cell execution time of parallel vs non-parallel</span>"
   ]
  },
  {
   "cell_type": "markdown",
   "execution_count": null,
   "metadata": {},
   "source": [
    "#### Let's print the result"
   ]
  },
  {
   "cell_type": "code",
   "execution_count": 10,
   "metadata": {
    "scrolled": true
   },
   "outputs": [
    {
     "name": "stdout",
     "output_type": "stream",
     "text": [
      "1.png\n",
      "2.png\n",
      "3.png\n",
      "4.png\n",
      "5.png\n",
      "6.png\n",
      "7.png\n",
      "8.png\n",
      "9.png\n",
      "10.png\n"
     ]
    }
   ],
   "source": [
    "for img_index in image_filenames:\n",
    "    print(img_index)"
   ]
  },
  {
   "cell_type": "markdown",
   "execution_count": null,
   "metadata": {},
   "source": [
    "## We can do a lot with Joblib `Parallel`:\n",
    "#### 1. [Thread-based parallelism vs process-based parallelism](https://joblib.readthedocs.io/en/latest/parallel.html#thread-based-parallelism-vs-process-based-parallelism)\n",
    "#### 2. [Shared-memory](https://joblib.readthedocs.io/en/latest/parallel.html#shared-memory-semantics)\n",
    "#### 3. [Working with numerical data in shared memory (memmapping)](https://joblib.readthedocs.io/en/latest/parallel.html#working-with-numerical-data-in-shared-memory-memmapping)"
   ]
  },
  {
   "cell_type": "markdown",
   "execution_count": null,
   "metadata": {},
   "source": [
    "### In this tutorial I will be discussing the first two points, as these are the ones we encounter the most in daily routine work"
   ]
  },
  {
   "cell_type": "markdown",
   "execution_count": null,
   "metadata": {},
   "source": [
    "## 1. Choose backend"
   ]
  },
  {
   "cell_type": "markdown",
   "execution_count": null,
   "metadata": {},
   "source": [
    "### Parallelism can be achieved in two ways: multi-threading and multi-processing\n",
    "\n",
    "#### In Joblib, we can specify the backend type and backend:\n",
    "\n",
    "<img src=\"https://raw.githubusercontent.com/karanpathak/blog/master/joblib/imgs/joblib_backends.png\" alt=\"Joblib backend and backend type\" width=\"500\" height=\"500\"/>\n",
    "\n",
    "> By default, Joblib `Parallel` uses `loky` backend\n",
    "\n",
    "**<u>P.S.</u>** - We can also use dask backend for parallelizing."
   ]
  },
  {
   "cell_type": "markdown",
   "execution_count": null,
   "metadata": {},
   "source": [
    "#### [Here](#With-Joblib-Parallel-processing), I had already showing an example of multi-processing with `loky` backend\n",
    "### Let's choose `threading` backend with argument `prefer='threads'`"
   ]
  },
  {
   "cell_type": "code",
   "execution_count": 11,
   "metadata": {},
   "outputs": [],
   "source": [
    "save_dir_parallel_threads = Path('./parallel_threads')\n",
    "save_dir_parallel_threads.mkdir(parents=True, exist_ok=True)"
   ]
  },
  {
   "cell_type": "code",
   "execution_count": 12,
   "metadata": {},
   "outputs": [
    {
     "name": "stdout",
     "output_type": "stream",
     "text": [
      "Number of threads:  10\n",
      "Execution Time:  3.1280977725982666\n"
     ]
    }
   ],
   "source": [
    "start_time = time()\n",
    "\n",
    "\n",
    "print(\"Number of threads: \",10)\n",
    "\n",
    "# Use multiple CPUs (Multi Processing)\n",
    "image_filenames = Parallel(prefer='threads', n_jobs=10)(\n",
    "    delayed(draw_rectangles)(img_index=str(image_index+1), save_dir=save_dir_parallel_threads, n=size_w, m=size_h) \n",
    "    for image_index in range(10)\n",
    ")\n",
    "\n",
    "parallel_execution_time_threading = time() - start_time\n",
    "\n",
    "\n",
    "print(\"Execution Time: \", parallel_execution_time_threading)"
   ]
  },
  {
   "cell_type": "markdown",
   "execution_count": null,
   "metadata": {},
   "source": [
    "<br>"
   ]
  },
  {
   "cell_type": "markdown",
   "execution_count": null,
   "metadata": {},
   "source": [
    "## 2. Updating shared memory in parallel processing "
   ]
  },
  {
   "cell_type": "markdown",
   "execution_count": null,
   "metadata": {},
   "source": [
    "#### if the parallel function needs to rely on the shared memory semantics of threads, it should be made explicit with `require='sharedmem'`"
   ]
  },
  {
   "cell_type": "markdown",
   "execution_count": null,
   "metadata": {},
   "source": [
    "### Let's see an example"
   ]
  },
  {
   "cell_type": "markdown",
   "execution_count": null,
   "metadata": {},
   "source": [
    "#### Shared object"
   ]
  },
  {
   "cell_type": "code",
   "execution_count": 13,
   "metadata": {},
   "outputs": [],
   "source": [
    "shared_list = []"
   ]
  },
  {
   "cell_type": "markdown",
   "execution_count": null,
   "metadata": {},
   "source": [
    "#### Function to update the shared object"
   ]
  },
  {
   "cell_type": "code",
   "execution_count": 14,
   "metadata": {},
   "outputs": [],
   "source": [
    "def add_to_list(x):\n",
    "    sleep(3.0)\n",
    "    shared_list.append(x)"
   ]
  },
  {
   "cell_type": "markdown",
   "execution_count": null,
   "metadata": {},
   "source": [
    "#### Update the shared object parallelly"
   ]
  },
  {
   "cell_type": "code",
   "execution_count": 15,
   "metadata": {},
   "outputs": [
    {
     "name": "stdout",
     "output_type": "stream",
     "text": [
      "Execution Time:  9.025025367736816\n"
     ]
    }
   ],
   "source": [
    "start_time = time()\n",
    "\n",
    "result = Parallel(n_jobs=cpu_count(), require='sharedmem')(delayed(add_to_list)(i) for i in range(10))\n",
    "\n",
    "print(\"Execution Time: \", time()-start_time)"
   ]
  },
  {
   "cell_type": "markdown",
   "execution_count": null,
   "metadata": {},
   "source": [
    "#### Let's check if our shared object has been updated"
   ]
  },
  {
   "cell_type": "code",
   "execution_count": 16,
   "metadata": {},
   "outputs": [
    {
     "data": {
      "text/plain": [
       "[1, 0, 3, 2, 4, 5, 7, 6, 8, 9]"
      ]
     },
     "execution_count": 16,
     "metadata": {},
     "output_type": "execute_result"
    }
   ],
   "source": [
    "shared_list"
   ]
  },
  {
   "cell_type": "markdown",
   "execution_count": null,
   "metadata": {},
   "source": [
    "<br>"
   ]
  },
  {
   "cell_type": "markdown",
   "execution_count": null,
   "metadata": {},
   "source": [
    "# Summary"
   ]
  },
  {
   "cell_type": "markdown",
   "execution_count": null,
   "metadata": {},
   "source": [
    "This tutorial showcases, how to use [Joblib](joblib.readthedocs.io) to parallelize `loops` without using any other heavy modules like apache spark etc which usually have a creational overhead.\n",
    "\n",
    "- [Part 1](#Lets-start-with-a-simple-example) - Shows a simple example on how to parallelize `for loop` using `Parallel` class. It highlights the difference in execution time for parallel vs squential approach.\n",
    "- [Part 2](#1.-Choose-backend) - Shows different available backends (multi-processing and multi-threading) in Joblib and how to choose a particluar backend.\n",
    "- [Part 3](#2.-Updating-shared-memory-in-parallel-processing) - Shows how we can interact with shared memory objects.\n"
   ]
  },
  {
   "cell_type": "markdown",
   "execution_count": null,
   "metadata": {},
   "source": [
    "## Looking forward for your feedback in the comments section below\n",
    "### If you liked this kernel please hit the Upvote button."
   ]
  },
  {
   "cell_type": "markdown",
   "execution_count": null,
   "metadata": {},
   "source": [
    "## Next: Try Disk caching and save lot of computation time using Joblib: https://www.kaggle.com/karanpathak/disk-caching-using-joblib"
   ]
  },
  {
   "cell_type": "code",
   "execution_count": null,
   "metadata": {},
   "outputs": [],
   "source": []
  }
 ],
 "metadata": {
  "kernelspec": {
   "display_name": "Python 3",
   "language": "python",
   "name": "python3"
  },
  "language_info": {
   "codemirror_mode": {
    "name": "ipython",
    "version": 3
   },
   "file_extension": ".py",
   "mimetype": "text/x-python",
   "name": "python",
   "nbconvert_exporter": "python",
   "pygments_lexer": "ipython3",
   "version": "3.7.6"
  }
 },
 "nbformat": 4,
 "nbformat_minor": 4
}
